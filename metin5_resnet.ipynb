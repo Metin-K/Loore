{
  "cells": [
    {
      "cell_type": "markdown",
      "metadata": {
        "id": "HjNCQftEBkXc"
      },
      "source": [
        "# 5 - ResNet\n",
        "\n",
        "In this notebook we'll be implementing one of the [ResNet](https://arxiv.org/abs/1512.03385) (Residual Network) model variants. Much like the [VGG](https://arxiv.org/abs/1409.1556) model introduced in the previous notebook, ResNet was designed for the [ImageNet challenge](http://www.image-net.org/challenges/LSVRC/), which it won in 2015.\n",
        "\n",
        "ResNet, like VGG, also has multiple *configurations* which specify the number of layers and the sizes of those layers. Each layer is made out of *blocks*, which are made up of convolutional layers, batch normalization layers and *residual connections* (also called *skip connections* or *shortcut connections*). Confusingly, ResNets use the term \"layer\" to refer to both a set of blocks, e.g. \"layer 1 has two blocks\", and also the total number of layers within the entire ResNet, e.g. \"ResNet18 has 18 layers\".\n",
        "\n",
        "A residual connection is simply a direct connection between the input of a block and the output of a block. Sometimes the residual connection has layers in it, but most of the time it does not. Below is an example block with an identity residual connection, i.e. no layers in the residual path.\n",
        "\n",
        "![](https://github.com/bentrevett/pytorch-image-classification/blob/master/assets/resnet-skip.png?raw=1)\n",
        "\n",
        "The different ResNet configurations are known by the total number of layers within them - ResNet18, ResNet34, ResNet50, ResNet101 and ResNet152. \n",
        "\n",
        "![](https://github.com/bentrevett/pytorch-image-classification/blob/master/assets/resnet-table.png?raw=1)\n",
        "\n",
        "From the table above, we can see that for ResNet18 and ResNet34 that the first block contains two 3x3 convolutional layers with 64 filters, and that ResNet18 has two of these blocks in the first layer, whilst Resnet34 has three. ResNet50, ResNet101 and ResNet152 blocks have a different structure than those in ResNet18 and ResNet34, and these blocks are called *bottleneck* blocks. Bottleneck blocks reduce the number of number of channels within the input before expanding them back out again. Below shows a standard *BasicBlock* (left) - used by ResNet18 and ResNet34 - and the *Bottleneck* block used by ResNet50, ResNet101 and ResNet152.\n",
        "\n",
        "![](https://github.com/bentrevett/pytorch-image-classification/blob/master/assets/resnet-blocks.png?raw=1)\n",
        "\n",
        "Why do ResNets work? The key is in the residual connections. Training incredibly deep neural networks is difficult due to the gradient signal either exploding (becoming very large) or vanishing (becoming very small) as it gets backpropagated through many layers. Residual connections allow the model to learn how to \"skip\" layers - by setting all their weights to zero and only rely on the residual connection. Thus, in theory, if your ResNet152 model can actually learn the desired function between input and output by only using the first 52 layers the remaining 100 layers should set their weights to zero and the output of the 52nd layer will simply pass through the residual connections unhindered. This also allows for the gradient signal to also backpropagate through those 100 layers unhindered too. This outcome could also also be achieved in a network without residual connections, the \"skipped\" layers would learn to set their weights to one, however adding the residual connection is more explicit and is easier for the model to learn to use these residual connections.\n",
        "\n",
        "The image below shows a comparison between VGG-19, a convolutional neural network architecture without residual connections, and one with residual connections - ResNet34. \n",
        "\n",
        "![](https://github.com/bentrevett/pytorch-image-classification/blob/master/assets/vgg-resnet.png?raw=1)\n",
        "\n",
        "In this notebook we'll also be showing how to use torchvision to handle datasets that are not part of `torchvision.datasets`. Specificially we'll be using the 2011 version of the [CUB200](http://www.vision.caltech.edu/visipedia/CUB-200-2011.html) dataset. This is a dataset with 200 different species of birds. Each species has around 60 images, which are around 500x500 pixels each. Our goal is to correctly determine which species an image belongs to - a 200-dimensional image classification problem.\n",
        "\n",
        "As this is a relatively small dataset - ~12,000 images compared to CIFAR10's 60,000 images - we'll be using a pre-trained model and then performing transfer learning using discriminative fine-tuning. \n",
        "\n",
        "**Note:** on the CUB200 dataset website there is a warning about some of the images in the dataset also appearing in ImageNet, which our pre-trained model was trained on. If any of those images are in our test set then this would be a form of \"information leakage\" as we are evaluating our model on images it has been trained on. However, the GitHub gist linked at the end of [this](https://guopei.github.io/2016/Overlap-Between-Imagenet-And-CUB/) article states that only 43 of the images appear in ImageNet. Even if they all ended up in the test set this would only be ~1% of all images in there so would have a negligible impact on performance.\n",
        "\n",
        "We'll also be using a learning rate scheduler, a PyTorch wrapper around an optimizer which allows us to dynamically alter its learning rate during training. Specifically, we'll use the *one cycle learning learning rate scheduler*, also known as *superconvergnence*, from [this](https://arxiv.org/abs/1803.09820) paper and is commonly used in the [fast.ai course](https://course.fast.ai/).\n",
        "\n",
        "### Data Processing\n",
        "\n",
        "As always, we'll start by importing all the necessary modules. We have a few new imports here:\n",
        "- `lr_scheduler` for using the one cycle learning rate scheduler\n",
        "- `namedtuple` for handling ResNet configurations\n",
        "- `os` and `shutil` for handling custom datasets"
      ]
    },
    {
      "cell_type": "code",
      "execution_count": null,
      "metadata": {
        "id": "NilSkBKhPthJ"
      },
      "outputs": [],
      "source": [
        "import torch\n",
        "import torch.nn as nn\n",
        "import torch.nn.functional as F\n",
        "import torch.optim as optim\n",
        "import torch.optim.lr_scheduler as lr_scheduler\n",
        "from torch.optim.lr_scheduler import _LRScheduler\n",
        "import torch.utils.data as data\n",
        "\n",
        "import torchvision.transforms as transforms\n",
        "import torchvision.datasets as datasets\n",
        "import torchvision.models as models\n",
        "\n",
        "from sklearn import decomposition\n",
        "from sklearn import manifold\n",
        "from sklearn.metrics import confusion_matrix\n",
        "from sklearn.metrics import ConfusionMatrixDisplay\n",
        "import matplotlib.pyplot as plt\n",
        "import numpy as np\n",
        "\n",
        "import copy\n",
        "from collections import namedtuple\n",
        "import os\n",
        "import random\n",
        "import shutil\n",
        "import time"
      ]
    },
    {
      "cell_type": "markdown",
      "metadata": {
        "id": "s7NNtOWlBkXh"
      },
      "source": [
        "Next, we'll set the random seeds for reproducability."
      ]
    },
    {
      "cell_type": "code",
      "execution_count": null,
      "metadata": {
        "id": "4QmwmcXuPuLo"
      },
      "outputs": [],
      "source": [
        "SEED = 1234\n",
        "\n",
        "random.seed(SEED)\n",
        "np.random.seed(SEED)\n",
        "torch.manual_seed(SEED)\n",
        "torch.cuda.manual_seed(SEED)\n",
        "torch.backends.cudnn.deterministic = True"
      ]
    },
    {
      "cell_type": "markdown",
      "metadata": {
        "id": "mXgw2VdpBkXk"
      },
      "source": [
        "We'll be using our own dataset instead of using one provided by `torchvision.datasets`.\n",
        "\n",
        "The url of the CUB200-2011 dataset can be found on its [website](http://www.vision.caltech.edu/visipedia/CUB-200-2011.html). However, the dataset is now hosted on Google Drive which has problems with files exceeding their download quota. \n",
        "\n",
        "Instead, we'll download the dataset from [Kaggle](https://www.kaggle.com) using the [kaggle-api](https://github.com/Kaggle/kaggle-api) which needs to be installed with `pip install kaggle`.\n",
        "\n",
        "First, we need to have a Kaggle account in order to generate an API key. Once we're logged on to Kaggle, we need to go to `https://www.kaggle.com/<username>/account` and click `Generate New API Token` which will download a `kaggle.json` file. Place this at `~/.kaggle/kaggle.json` (or, if you're on Windows, at `C:\\Users\\<Windows-username>\\.kaggle\\kaggle.json`). \n",
        "\n",
        "If we are using Google Colab, an alternative is simply set the environment variables `KAGGLE_USERNAME` and `KAGGLE_KEY` to their respective values. This is what we do below.\n",
        "\n",
        "Next, we'll download the dataset from where it is hosted on Kaggle, at: https://www.kaggle.com/veeralakrishna/200-bird-species-with-11788-images. This is done with `!kaggle datasets download <kaggle-url> --unzip`, where the `<kaggle-url>` is the dataset URL after the `kaggle.com` part, which is `veeralakrishna/200-bird-species-with-11788-images` for this dataset.\n",
        "\n",
        "[`datasets.utils`](https://github.com/pytorch/vision/blob/master/torchvision/datasets/utils.py) contains some functionality for downloading and extract data which means we don't have to write it ourselves.\n",
        "\n",
        "We use the `extract_archive` function, which extracts a file to a given root folder. We should now have a `data/CUB_200_2011` folder which contains our entire dataset."
      ]
    },
    {
      "cell_type": "code",
      "execution_count": null,
      "metadata": {
        "id": "WhEL6z-dBkXl"
      },
      "outputs": [],
      "source": [
        "# REPLACE THESE WITH YOUR OWN KAGGLE USERNAME AND KEY\n",
        "os.environ['KAGGLE_USERNAME'] = 'YOUR_KAGGLE_USERNAME_HERE'\n",
        "os.environ['KAGGLE_KEY'] = 'YOUR_KAGGLE_KEY_HERE'\n",
        "\n",
        "!pip install kaggle\n",
        "!kaggle datasets download veeralakrishna/200-bird-species-with-11788-images --unzip\n",
        "\n",
        "ROOT = 'data'\n",
        "\n",
        "#datasets.utils.extract_archive('CUB_200_2011.tgz', ROOT)"
      ]
    },
    {
      "cell_type": "markdown",
      "metadata": {
        "id": "meOmXEbEBkXo"
      },
      "source": [
        "To handle using custom datasets, torchvision provides a [`datasets.ImageFolder`](https://pytorch.org/vision/stable/datasets.html#torchvision.datasets.ImageFolder) class. \n",
        "\n",
        "`ImageFolder` expects data to be stored in the following way:\n",
        "\n",
        "```\n",
        "root/class_x/xxy.png\n",
        "root/class_x/xxz.jpg\n",
        "\n",
        "root/class_y/123.jpeg\n",
        "root/class_y/nsdf3.png\n",
        "root/class_y/asd932_.jpg\n",
        "```\n",
        "\n",
        "That is, each folder in the root directory is the name of a class, and within each of those folders are the images that correspond to that class. The images in the downloaded dataset are currently in the form of:\n",
        "\n",
        "```\n",
        "CUB_200_2011/images/class_a/image_1.jpg\n",
        "CUB_200_2011/images/class_a/image_2.jpg\n",
        "\n",
        "CUB_200_2011/images/class_b/image_1.jpg\n",
        "CUB_200_2011/images/class_b/image_2.jpg\n",
        "\n",
        "CUB_200_2011/images/class_c/image_1.jpg\n",
        "CUB_200_2011/images/class_c/image_2.jpg\n",
        "```\n",
        "\n",
        "This means we could call `datasets.ImageFolder(root = '.data/CUB_200_2011/images)` and it would load all of the data. However, we want to split our data into train and test splits. This could be done with `data.random_split`, which we have used in the past to create our validation sets - but we will show how to manually create a `train` and `test` folder and store the relevant images in those folders. This way means that we only need to create a train/test split once and re-use it each time we re-run the notebook\n",
        "\n",
        "We first set a `TRAIN_RATIO` which will decide what percentage of the images per class are used to make up the training set, with the remainder making up the test set. We create a `train` and `test` folder within the `CUB_200_2011` folder - after first deleting them if they already exist. Then, we get a list of all classes and loop through each class. For each class we get the image names, use the first `TRAIN_RATIO` of them for the training set and the remainder for the test set. We then copy - with `shutil.copyfile` - each of the images into their respective `train` or `test` folder. It is usually better to copy, rather than move, the images to create your custom splits just in case we accidentally mess up somewhere.\n",
        "\n",
        "After running the below cell we have our training set as:\n",
        "\n",
        "```\n",
        "CUB_200_2011/images/train/class_a/image_1.jpg\n",
        "CUB_200_2011/images/train/class_a/image_2.jpg\n",
        "\n",
        "CUB_200_2011/images/train/class_b/image_1.jpg\n",
        "CUB_200_2011/images/train/class_b/image_2.jpg\n",
        "\n",
        "CUB_200_2011/images/train/class_b/image_1.jpg\n",
        "CUB_200_2011/images/train/class_b/image_2.jpg\n",
        "```\n",
        "\n",
        "and our test set as:\n",
        "\n",
        "```\n",
        "CUB_200_2011/images/test/class_a/image_48.jpg\n",
        "CUB_200_2011/images/test/class_a/image_49.jpg\n",
        "\n",
        "CUB_200_2011/images/test/class_b/image_48.jpg\n",
        "CUB_200_2011/images/test/class_b/image_49.jpg\n",
        "\n",
        "CUB_200_2011/images/test/class_c/image_48.jpg\n",
        "CUB_200_2011/images/test/class_c/image_49.jpg\n",
        "```\n",
        "\n",
        "This train/test split only needs to be created once and does not need to be created again on subsequent runs.\n",
        "\n",
        "**Note:** `ImageFolder` will only load files that have image related extensions, i.e. jpg/jpeg/png, so if there was, for example, a `.txt` file in one of the class folders then it would not be loaded with the images. If we wanted more flexibility when deciding which files to load or not - such as not loading .png images or loading images with an esoteric format - then we could either use the `is_valid_file` argument of the `ImageFolder` class or use [`DatasetFolder`](https://pytorch.org/vision/stable/datasets.html#torchvision.datasets.DatasetFolder) and provide a list of valid extensions to the `extensions` argument."
      ]
    },
    {
      "cell_type": "code",
      "execution_count": null,
      "metadata": {
        "id": "tnhJlc18BkXp"
      },
      "outputs": [],
      "source": [
        "#TRAIN_RATIO = 0.8\n",
        "\n",
        "#data_dir = os.path.join(ROOT, 'CUB_200_2011')\n",
        "#images_dir = os.path.join(data_dir, 'images')\n",
        "#train_dir = os.path.join(data_dir, 'train')\n",
        "#test_dir = os.path.join(data_dir, 'test')\n",
        "\n",
        "# if os.path.exists(train_dir):\n",
        "#     shutil.rmtree(train_dir) \n",
        "# if os.path.exists(test_dir):\n",
        "#     shutil.rmtree(test_dir)\n",
        "    \n",
        "# os.makedirs(train_dir)\n",
        "# os.makedirs(test_dir)\n",
        "\n",
        "# classes = os.listdir(images_dir)\n",
        "\n",
        "# for c in classes:\n",
        "    \n",
        "#     class_dir = os.path.join(images_dir, c)\n",
        "    \n",
        "#     images = os.listdir(class_dir)\n",
        "       \n",
        "#     n_train = int(len(images) * TRAIN_RATIO)\n",
        "    \n",
        "#     train_images = images[:n_train]\n",
        "#     test_images = images[n_train:]\n",
        "    \n",
        "#     os.makedirs(os.path.join(train_dir, c), exist_ok = True)\n",
        "#     os.makedirs(os.path.join(test_dir, c), exist_ok = True)\n",
        "    \n",
        "#     for image in train_images:\n",
        "#         image_src = os.path.join(class_dir, image)\n",
        "#         image_dst = os.path.join(train_dir, c, image) \n",
        "#         shutil.copyfile(image_src, image_dst)\n",
        "        \n",
        "#     for image in test_images:\n",
        "#         image_src = os.path.join(class_dir, image)\n",
        "#         image_dst = os.path.join(test_dir, c, image) \n",
        "#         shutil.copyfile(image_src, image_dst)"
      ]
    },
    {
      "cell_type": "markdown",
      "metadata": {
        "id": "SFb7SBBSBkXr"
      },
      "source": [
        "Now we've got our train/test splits we can go ahead and calculate the mean and standard deviation (std) of our dataset to normalize it. We're actually going to use a pre-trained model in this notebook so will be using the mean and std desired by the pre-trained data, so we don't actually have to calculate this - however it is left as an example.\n",
        "\n",
        "Calculating the mean and std is slightly different than when using a dataset provided by torchvision as those datasets have all of the images stored as numpy arrays in the data's `data` attribute, whilst datasets loaded by `ImageFolder` and `DataFolder` do not.\n",
        "\n",
        "First, we load the `train_data` from the `train` folder. Remember: the mean and std must only be calculated from the training data. This will load PIL images by default so we pass the `ToTensor` transform which converts all the PIL images to tensors and scales them from 0-255 to 0-1.\n",
        "\n",
        "We then loop through each image and calculate the mean and std across the height and width dimensions with `dim = (1,2)`, summing all the means and stds and then finding the average by dividing them by the number of examples, `len(train_data)`.\n",
        "\n",
        "Again, this only needs to be calculated once per dataset and the means and stds calculated here can be re-used without calculating them for other runs. The exception to this is if we used a different train/test split, then we would need to calculate these again."
      ]
    },
    {
      "cell_type": "code",
      "execution_count": null,
      "metadata": {
        "id": "AORf1yn3Pw4H"
      },
      "outputs": [],
      "source": [
        "# train_data = datasets.ImageFolder(root = train_dir, \n",
        "#                                   transform = transforms.ToTensor())\n",
        "\n",
        "# means = torch.zeros(3)\n",
        "# stds = torch.zeros(3)\n",
        "\n",
        "# for img, label in train_data:\n",
        "#     means += torch.mean(img, dim = (1,2))\n",
        "#     stds += torch.std(img, dim = (1,2))\n",
        "\n",
        "# means /= len(train_data)\n",
        "# stds /= len(train_data)\n",
        "    \n",
        "# print(f'Calculated means: {means}')\n",
        "# print(f'Calculated stds: {stds}')"
      ]
    },
    {
      "cell_type": "markdown",
      "metadata": {
        "id": "-1n1wNalBkXv"
      },
      "source": [
        "Now to actually load our data. As we are going to be using a pre-trained model we will need to ensure that our images are the same size and have the same normalization as those used to train the model - which we find on the torchvision [models](https://pytorch.org/vision/stable/models.html) page.\n",
        "\n",
        "We use the same data augmentation as always: randomly rotating, flipping horizontally and cropping."
      ]
    },
    {
      "cell_type": "code",
      "execution_count": null,
      "metadata": {
        "id": "gb-ZmsUOBkXv"
      },
      "outputs": [],
      "source": [
        "# pretrained_size = 224\n",
        "# pretrained_means = [0.485, 0.456, 0.406]\n",
        "# pretrained_stds= [0.229, 0.224, 0.225]\n",
        "\n",
        "# train_transforms = transforms.Compose([\n",
        "#                            transforms.Resize(pretrained_size),\n",
        "#                            transforms.RandomRotation(5),\n",
        "#                            transforms.RandomHorizontalFlip(0.5),\n",
        "#                            transforms.RandomCrop(pretrained_size, padding = 10),\n",
        "#                            transforms.ToTensor(),\n",
        "#                            transforms.Normalize(mean = pretrained_means, \n",
        "#                                                 std = pretrained_stds)\n",
        "#                        ])\n",
        "\n",
        "# test_transforms = transforms.Compose([\n",
        "#                            transforms.Resize(pretrained_size),\n",
        "#                            transforms.CenterCrop(pretrained_size),\n",
        "#                            transforms.ToTensor(),\n",
        "#                            transforms.Normalize(mean = pretrained_means, \n",
        "#                                                 std = pretrained_stds)\n",
        "#                        ])\n",
        "\n",
        "pretrained_size = 224\n",
        "pretrained_means = [0.485, 0.456, 0.406]\n",
        "pretrained_stds = [0.229, 0.224, 0.225]\n",
        "\n",
        "train_transforms = transforms.Compose([\n",
        "                           transforms.Resize(pretrained_size),\n",
        "                           transforms.RandomRotation(5),\n",
        "                           transforms.RandomHorizontalFlip(0.5),\n",
        "                           transforms.RandomCrop(pretrained_size, padding=10),\n",
        "                           transforms.ToTensor(),\n",
        "                           transforms.Normalize(mean=pretrained_means,\n",
        "                                                std=pretrained_stds)\n",
        "                       ])\n",
        "\n",
        "test_transforms = transforms.Compose([\n",
        "                           transforms.Resize(pretrained_size),\n",
        "                           transforms.ToTensor(),\n",
        "                           transforms.Normalize(mean=pretrained_means,\n",
        "                                                std=pretrained_stds)\n",
        "                       ])"
      ]
    },
    {
      "cell_type": "markdown",
      "metadata": {
        "id": "kYMHIIXMBkXy"
      },
      "source": [
        "We load our data with our transforms..."
      ]
    },
    {
      "cell_type": "code",
      "execution_count": null,
      "metadata": {
        "id": "l-89cb0XBkXz"
      },
      "outputs": [],
      "source": [
        "# train_data = datasets.ImageFolder(root = train_dir, \n",
        "                                  #transform = train_transforms)\n",
        "\n",
        "#test_data = datasets.ImageFolder(root = test_dir, \n",
        "                                 #transform = test_transforms)\n",
        "                        \n",
        "train_data = datasets.CIFAR10(ROOT,\n",
        "                              train=True,\n",
        "                              download=True,\n",
        "                              transform=train_transforms)\n",
        "\n",
        "test_data = datasets.CIFAR10(ROOT,\n",
        "                             train=False,\n",
        "                             download=True,\n",
        "                             transform=test_transforms)"
      ]
    },
    {
      "cell_type": "markdown",
      "metadata": {
        "id": "HdWme8gvBkX1"
      },
      "source": [
        "...create the validation split..."
      ]
    },
    {
      "cell_type": "code",
      "execution_count": null,
      "metadata": {
        "id": "9OQN9jG2P6p8"
      },
      "outputs": [],
      "source": [
        "VALID_RATIO = 0.9\n",
        "\n",
        "n_train_examples = int(len(train_data) * VALID_RATIO)\n",
        "n_valid_examples = len(train_data) - n_train_examples\n",
        "\n",
        "train_data, valid_data = data.random_split(train_data, \n",
        "                                           [n_train_examples, n_valid_examples])"
      ]
    },
    {
      "cell_type": "markdown",
      "metadata": {
        "id": "ZHKEdansBkX4"
      },
      "source": [
        "...and then overwrite the validation transforms, making sure to do a `deepcopy` to stop this also changing the training data transforms."
      ]
    },
    {
      "cell_type": "code",
      "execution_count": null,
      "metadata": {
        "id": "9A-RD7IdPy7K"
      },
      "outputs": [],
      "source": [
        "valid_data = copy.deepcopy(valid_data)\n",
        "valid_data.dataset.transform = test_transforms"
      ]
    },
    {
      "cell_type": "markdown",
      "metadata": {
        "id": "8j-X6J-zBkX7"
      },
      "source": [
        "To make sure nothing has messed up we'll print the number of examples in each of the data splits - ensuring they add up to the number of examples indicated on the [CUB200-2011 dataset website](http://www.vision.caltech.edu/visipedia/CUB-200-2011.html) (11,788)."
      ]
    },
    {
      "cell_type": "code",
      "execution_count": null,
      "metadata": {
        "id": "-4XfHZL1xVLT"
      },
      "outputs": [],
      "source": [
        "print(f'Number of training examples: {len(train_data)}')\n",
        "print(f'Number of validation examples: {len(valid_data)}')\n",
        "print(f'Number of testing examples: {len(test_data)}')"
      ]
    },
    {
      "cell_type": "markdown",
      "metadata": {
        "id": "zgCBaMUjBkX9"
      },
      "source": [
        "Next, we'll create the iterators with the largest batch size that fits on our GPU. "
      ]
    },
    {
      "cell_type": "code",
      "execution_count": null,
      "metadata": {
        "id": "LlF1vQHHRESs"
      },
      "outputs": [],
      "source": [
        "BATCH_SIZE = 64\n",
        "\n",
        "train_iterator = data.DataLoader(train_data, \n",
        "                                 shuffle = True, \n",
        "                                 batch_size = BATCH_SIZE)\n",
        "\n",
        "valid_iterator = data.DataLoader(valid_data, \n",
        "                                 batch_size = BATCH_SIZE)\n",
        "\n",
        "test_iterator = data.DataLoader(test_data, \n",
        "                                batch_size = BATCH_SIZE)"
      ]
    },
    {
      "cell_type": "markdown",
      "metadata": {
        "id": "cwUrAarMBkYA"
      },
      "source": [
        "To ensure the images have been processed correctly we can plot a few of them - ensuring we re-normalize the images so their colors look right."
      ]
    },
    {
      "cell_type": "code",
      "execution_count": null,
      "metadata": {
        "id": "MjvuGeRMBkYB"
      },
      "outputs": [],
      "source": [
        "def normalize_image(image):\n",
        "    image_min = image.min()\n",
        "    image_max = image.max()\n",
        "    image.clamp_(min = image_min, max = image_max)\n",
        "    image.add_(-image_min).div_(image_max - image_min + 1e-5)\n",
        "    return image    "
      ]
    },
    {
      "cell_type": "code",
      "execution_count": null,
      "metadata": {
        "id": "XZVxkhKxBkYD"
      },
      "outputs": [],
      "source": [
        "def plot_images(images, labels, classes, normalize = True):\n",
        "\n",
        "    n_images = len(images)\n",
        "\n",
        "    rows = int(np.sqrt(n_images))\n",
        "    cols = int(np.sqrt(n_images))\n",
        "\n",
        "    fig = plt.figure(figsize = (15, 15))\n",
        "\n",
        "    for i in range(rows*cols):\n",
        "\n",
        "        ax = fig.add_subplot(rows, cols, i+1)\n",
        "        \n",
        "        image = images[i]\n",
        "\n",
        "        if normalize:\n",
        "            image = normalize_image(image)\n",
        "\n",
        "        ax.imshow(image.permute(1, 2, 0).cpu().numpy())\n",
        "        label = classes[labels[i]]\n",
        "        ax.set_title(label)\n",
        "        ax.axis('off')"
      ]
    },
    {
      "cell_type": "markdown",
      "metadata": {
        "id": "SaY46boZBkYG"
      },
      "source": [
        "We can see the images look fine, however the names of the classes provided by the folders containing the images are a little long and sometimes overlap with neighbouring images."
      ]
    },
    {
      "cell_type": "code",
      "execution_count": null,
      "metadata": {
        "id": "TueBO2OxRQiq"
      },
      "outputs": [],
      "source": [
        "N_IMAGES = 25\n",
        "\n",
        "images, labels = zip(*[(image, label) for image, label in \n",
        "                           [train_data[i] for i in range(N_IMAGES)]])\n",
        "\n",
        "classes = test_data.classes\n",
        "\n",
        "plot_images(images, labels, classes)"
      ]
    },
    {
      "cell_type": "markdown",
      "metadata": {
        "id": "FMd7wL88BkYJ"
      },
      "source": [
        "One way to solve the issue with the names of the classes would have been to manually change the names of the folders before we copied them over into the `train` and `test` folders. \n",
        "\n",
        "Another approach is to directly change the names of each class provided by the dataset's `.classes`. We'll make a `format_label` function which will strip off the number at the start of each class and convert them into title case."
      ]
    },
    {
      "cell_type": "code",
      "execution_count": null,
      "metadata": {
        "id": "zI3n_KkxBkYK"
      },
      "outputs": [],
      "source": [
        "def format_label(label):\n",
        "    label = label.split('.')[-1]\n",
        "    label = label.replace('_', ' ')\n",
        "    label = label.title()\n",
        "    label = label.replace(' ', '')\n",
        "    return label"
      ]
    },
    {
      "cell_type": "markdown",
      "metadata": {
        "id": "lGfw4je0BkYO"
      },
      "source": [
        "Let's change the class names and re-plot the images with their new class names.\n",
        "\n",
        "No more overlapping!"
      ]
    },
    {
      "cell_type": "code",
      "execution_count": null,
      "metadata": {
        "id": "LPU5qt4hBkYO"
      },
      "outputs": [],
      "source": [
        "test_data.classes = [format_label(c) for c in test_data.classes]\n",
        "\n",
        "classes = test_data.classes\n",
        "\n",
        "plot_images(images, labels, classes)"
      ]
    },
    {
      "cell_type": "markdown",
      "metadata": {
        "id": "MiEhadDsBkYR"
      },
      "source": [
        "### Defining the Model\n",
        "\n",
        "Next up, we'll be defining our model. As mentioned previously, we'll be using one of the residual network (ResNet) models. Let's look at the ResNet configuration table again:\n",
        "\n",
        "![](https://github.com/bentrevett/pytorch-image-classification/blob/master/assets/resnet-table.png?raw=1)\n",
        "\n",
        "As we can see, there is a common 7x7 convolutional layer and max pooling layer at the start of all ResNet models - these layers also have padding, which is not shown in the table. These are followed by four \"layers\", each containing a different number of blocks. There are two different blocks used, one for the ResNet18 and ResNet34 - called the `BasicBlock` - , and one for the ResNet50, ResNet101 and ResNet152 - called the `Bottleneck` block.\n",
        "\n",
        "Our `ResNet` class defines the initial 7x7 convolutional layer along with batch normalization, a ReLU activation function and a downsampling max pooling layer. We then build the four layers from the provided configuration, `config`, which specifies: the block to use, the number of blocks in the layer, and the number of channels in that layer. For the `BasicBlock` the number of channels in a layer is simply the number of filters for both of the convolutional layers within the block. For the `Bottleneck` block, the number of channels refers to the number of filters used by the first two convolutional layers - the number of the filters in the final layer is the number of channels multiplied by an `expansion` factor, which is 4 for the `Bottleneck` block (and 1 for the `BasicBlock`). Also note that the `stride` of the first layer is one, whilst the `stride` of the last three layers is two. This `stride` is only used to change the `stride` of the first convolutional layer within a block and also in the \"downsampling\" residual path - we'll explain what downsampling in ResNets means shortly.\n",
        "\n",
        "`get_resnet_layer` is used to define the layers from the configuration by creating a `nn.Sequential` from a list of blocks. The first thing it checks is if the first block in a layer needs to have a downsampling residual path - only the first block within a layer ever needs to have a downsampling residual path. So, what is a downsampling residual path?\n",
        "\n",
        "![](https://github.com/bentrevett/pytorch-image-classification/blob/master/assets/resnet-skip.png?raw=1)\n",
        "\n",
        "Remember that the key concept in the ResNet models is the residual (aka skip/identity) connection. However, if the number of channels within the image is changed in the main connection of the block then it won't have the same number of channels as the image from the residual connection and thus we cannot sum them together. Consider the first block in second layer of ResNet18, the image tensor passed to it will have 64 channels and the output will have 128 channels. Thus, we need to make a residual connection between a 64 channel tensor and a 128 channel tensor. ResNet models solve this using a downsampling connection - technically, it doesn't always downsample the image as sometimes the image height and width stay the same - which increases the number of channels in the image through the residual connection by passing them through a convolutional layer. \n",
        "\n",
        "Thus, to check if we need to downsample within a block or not, we simply check if the number of channels into the block - `in_channels` - is the number of channels out of the block - defined by the `channels` argument multipled by the `expansion` factor of the block. Only the first block in each layer is checked if it needs to downsample or not. After each layer is created, we update `in_channels` to be the number of channels of the image when it is output by the layer.\n",
        "\n",
        "We then follow the four layers with a 1x1 adaptive average pool. This will take the average over the entire height and width of the image separately for each channel. Thus, if the input to the average pool is `[512, 7, 7]` (512 channels and a height and width of seven) then the output of the average pool will be `[512, 1, 1]`. We then pass this average pooled output to a linear layer to make a prediction. We always know how many channels will be in the image after the fourth layer as we continuously update `in_channels` to be equal to the number of the channels in the image output by each layer.\n",
        "\n",
        "One thing to note is that the initial convolutional layer has `bias = False`, which means there is no bias term used by the filters. In fact, every convolutional layer used within every ResNet model always has `bias = False`. The authors of the ResNet paper argue that the bias terms are unnecessary as every convolutional layer in a ResNet is followed by a batch normalization layer which has a $\\beta$ (beta) term that does the same thing as the bias term in the convolutional layer, a simple addition. See the previous notebook for more details on how batch normalization works."
      ]
    },
    {
      "cell_type": "code",
      "execution_count": null,
      "metadata": {
        "id": "dvkp1FEhBkYR"
      },
      "outputs": [],
      "source": [
        "class ResNet(nn.Module):\n",
        "    def __init__(self, config, output_dim):\n",
        "        super().__init__()\n",
        "                \n",
        "        block, n_blocks, channels = config\n",
        "        self.in_channels = channels[0]\n",
        "            \n",
        "        assert len(n_blocks) == len(channels) == 4\n",
        "        \n",
        "        self.conv1 = nn.Conv2d(3, self.in_channels, kernel_size = 7, stride = 2, padding = 3, bias = False)\n",
        "        self.bn1 = nn.BatchNorm2d(self.in_channels)\n",
        "        self.relu = nn.ReLU(inplace = True)\n",
        "        self.maxpool = nn.MaxPool2d(kernel_size = 3, stride = 2, padding = 1)\n",
        "        \n",
        "        self.layer1 = self.get_resnet_layer(block, n_blocks[0], channels[0])\n",
        "        self.layer2 = self.get_resnet_layer(block, n_blocks[1], channels[1], stride = 2)\n",
        "        self.layer3 = self.get_resnet_layer(block, n_blocks[2], channels[2], stride = 2)\n",
        "        self.layer4 = self.get_resnet_layer(block, n_blocks[3], channels[3], stride = 2)\n",
        "        \n",
        "        self.avgpool = nn.AdaptiveAvgPool2d((1,1))\n",
        "        self.fc = nn.Linear(self.in_channels, output_dim)\n",
        "        \n",
        "    def get_resnet_layer(self, block, n_blocks, channels, stride = 1):\n",
        "    \n",
        "        layers = []\n",
        "        \n",
        "        if self.in_channels != block.expansion * channels:\n",
        "            downsample = True\n",
        "        else:\n",
        "            downsample = False\n",
        "        \n",
        "        layers.append(block(self.in_channels, channels, stride, downsample))\n",
        "        \n",
        "        for i in range(1, n_blocks):\n",
        "            layers.append(block(block.expansion * channels, channels))\n",
        "\n",
        "        self.in_channels = block.expansion * channels\n",
        "            \n",
        "        return nn.Sequential(*layers)\n",
        "        \n",
        "    def forward(self, x):\n",
        "        \n",
        "        x = self.conv1(x)\n",
        "        x = self.bn1(x)\n",
        "        x = self.relu(x)\n",
        "        x = self.maxpool(x)\n",
        "\n",
        "        x = self.layer1(x)\n",
        "        x = self.layer2(x)\n",
        "        x = self.layer3(x)\n",
        "        x = self.layer4(x)\n",
        "        \n",
        "        x = self.avgpool(x)\n",
        "        h = x.view(x.shape[0], -1)\n",
        "        x = self.fc(h)\n",
        "        \n",
        "        return x, h"
      ]
    },
    {
      "cell_type": "markdown",
      "metadata": {
        "id": "iLX4MhnlBkYT"
      },
      "source": [
        "First up is the `BasicBlock`. \n",
        "\n",
        "The `BasicBlock` is made of two 3x3 convolutional layers. The first, `conv1`, has `stride` which varies depending on the layer (one in the first layer and two in the other layers), whilst the second, `conv2`, always has a `stride` of one. Each of the layers has a `padding` of one - this means before the filters are applied to the input image we add a single pixel, that is zero in every channel, around the entire image. Each convolutional layer is followed by a ReLU activation function and batch normalization. \n",
        "\n",
        "As mentioned in the previous notebook, it makes more sense to use batch normalization after the activation function, rather than before. However, the original ResNet models used batch normalization before the activation, so we do here as well.\n",
        "\n",
        "When downsampling, we add a convolutional layer with a 1x1 filter, and no padding, to the residual path. This also has a variable `stride` and is followed by batch normalization. With a stride of one, a 1x1 filter does not change the height and width of an image - it simply has `out_channels` number of filters, each with a depth of `in_channels`, i.e. it is increasing the number of channels in an image via a linear projection and not actually downsampling at all. With a stride of two, it reduces the height and width of the image by two as the 1x1 filter only passes over every other pixel - this time it is actually downsampling the image as well as doing the linear projection of the channels.\n",
        "\n",
        "The `BasicBlock` has an `expansion` of one as the number of filters used by each of the convolutional layers within a block is the same."
      ]
    },
    {
      "cell_type": "code",
      "execution_count": null,
      "metadata": {
        "id": "ao_fIYG2BkYU"
      },
      "outputs": [],
      "source": [
        "class BasicBlock(nn.Module):\n",
        "    \n",
        "    expansion = 1\n",
        "    \n",
        "    def __init__(self, in_channels, out_channels, stride = 1, downsample = False):\n",
        "        super().__init__()\n",
        "                \n",
        "        self.conv1 = nn.Conv2d(in_channels, out_channels, kernel_size = 3, \n",
        "                               stride = stride, padding = 1, bias = False)\n",
        "        self.bn1 = nn.BatchNorm2d(out_channels)\n",
        "        \n",
        "        self.conv2 = nn.Conv2d(out_channels, out_channels, kernel_size = 3, \n",
        "                               stride = 1, padding = 1, bias = False)\n",
        "        self.bn2 = nn.BatchNorm2d(out_channels)\n",
        "        \n",
        "        self.relu = nn.ReLU(inplace = True)\n",
        "        \n",
        "        if downsample:\n",
        "            conv = nn.Conv2d(in_channels, out_channels, kernel_size = 1, \n",
        "                             stride = stride, bias = False)\n",
        "            bn = nn.BatchNorm2d(out_channels)\n",
        "            downsample = nn.Sequential(conv, bn)\n",
        "        else:\n",
        "            downsample = None\n",
        "        \n",
        "        self.downsample = downsample\n",
        "        \n",
        "    def forward(self, x):\n",
        "        \n",
        "        i = x\n",
        "        \n",
        "        x = self.conv1(x)\n",
        "        x = self.bn1(x)\n",
        "        x = self.relu(x)\n",
        "        \n",
        "        x = self.conv2(x)\n",
        "        x = self.bn2(x)\n",
        "        \n",
        "        if self.downsample is not None:\n",
        "            i = self.downsample(i)\n",
        "                        \n",
        "        x += i\n",
        "        x = self.relu(x)\n",
        "        \n",
        "        return x"
      ]
    },
    {
      "cell_type": "markdown",
      "metadata": {
        "id": "8pa8tcBEBkYW"
      },
      "source": [
        "Before we detail the `Bottleneck` block, we'll first show how to create the configurations for the ResNet models.\n",
        "\n",
        "Instead of using a simple list, like we did the for the VGG model in the previous notebook, we'll use a `namedtuple`. This will store: the block class, the number of blocks in each layer, and the number of channels in each layer."
      ]
    },
    {
      "cell_type": "code",
      "execution_count": null,
      "metadata": {
        "id": "ygLIMUX6BkYX"
      },
      "outputs": [],
      "source": [
        "ResNetConfig = namedtuple('ResNetConfig', ['block', 'n_blocks', 'channels'])"
      ]
    },
    {
      "cell_type": "markdown",
      "metadata": {
        "id": "IeUrXvYBBkYZ"
      },
      "source": [
        "From the ResNet configuration table, we can create the following configurations for ResNet18 and ResNet34. Notice how the specified `channels` does not change across configurations, simply the number of blocks used in each layer.\n",
        "\n",
        "We could then define the ResNet18 and ResNet34 models with:\n",
        "\n",
        "```python\n",
        "resnet18 = ResNet(resnet18_config, output_dim)\n",
        "resnet34 = ResNet(resnet34_config, output_dim)\n",
        "```"
      ]
    },
    {
      "cell_type": "code",
      "execution_count": null,
      "metadata": {
        "id": "NsbYP0qrBkYZ"
      },
      "outputs": [],
      "source": [
        "resnet18_config = ResNetConfig(block = BasicBlock,\n",
        "                               n_blocks = [2,2,2,2],\n",
        "                               channels = [64, 128, 256, 512])\n",
        "\n",
        "resnet34_config = ResNetConfig(block = BasicBlock,\n",
        "                               n_blocks = [3,4,6,3],\n",
        "                               channels = [64, 128, 256, 512])"
      ]
    },
    {
      "cell_type": "markdown",
      "metadata": {
        "id": "XPQOw42SBkYb"
      },
      "source": [
        "The `Bottleneck` block, used for ResNet50, ResNet101 and ResNet152. \n",
        "\n",
        "Instead of two 3x3 convolutional layers it has a 1x1, 3x3 and then another 1x1 convolutional layer. Only the 3x3 convolutional layer has a variable stride and padding, whilst the 1x1 filters have a stride of one and no padding.\n",
        "\n",
        "The first 1x1 filter, `conv1`, is used to reduce the number of channels in all layers except the first, where it keeps the number of channels the same, e.g. in first block in of second layer it goes from 256 channels to 128. In the case where a 1x1 filter reduces the number of channels it can be thought of as a pooling layer across the channel dimension, but instead of doing a simple maximum or average operation it learns - via its weights - how to most efficiently reduce dimensionality. Reducing the dimensionality is also useful for simply reducing the number of parameters within the model and making it feasible to train.\n",
        "\n",
        "The second 1x1 filter, `conv3`, is used to increase the number of channels - similar to the convolutional layer in the downsampling path.\n",
        "\n",
        "The `Bottleneck` block has an `expansion` of four, which means that the number of channels in the image output a block isn't `out_channels`, but `expansion * out_channels`. \n",
        "\n",
        "The downsampling convolutional layer is similar to that used in the `BasicBlock`, with the `expansion` factor taken into account."
      ]
    },
    {
      "cell_type": "code",
      "execution_count": null,
      "metadata": {
        "id": "eFMwBDRVBkYc"
      },
      "outputs": [],
      "source": [
        "class Bottleneck(nn.Module):\n",
        "    \n",
        "    expansion = 4\n",
        "    \n",
        "    def __init__(self, in_channels, out_channels, stride = 1, downsample = False):\n",
        "        super().__init__()\n",
        "    \n",
        "        self.conv1 = nn.Conv2d(in_channels, out_channels, kernel_size = 1, \n",
        "                               stride = 1, bias = False)\n",
        "        self.bn1 = nn.BatchNorm2d(out_channels)\n",
        "        \n",
        "        self.conv2 = nn.Conv2d(out_channels, out_channels, kernel_size = 3, \n",
        "                               stride = stride, padding = 1, bias = False)\n",
        "        self.bn2 = nn.BatchNorm2d(out_channels)\n",
        "        \n",
        "        self.conv3 = nn.Conv2d(out_channels, self.expansion * out_channels, kernel_size = 1,\n",
        "                               stride = 1, bias = False)\n",
        "        self.bn3 = nn.BatchNorm2d(self.expansion * out_channels)\n",
        "        \n",
        "        self.relu = nn.ReLU(inplace = True)\n",
        "        \n",
        "        if downsample:\n",
        "            conv = nn.Conv2d(in_channels, self.expansion * out_channels, kernel_size = 1, \n",
        "                             stride = stride, bias = False)\n",
        "            bn = nn.BatchNorm2d(self.expansion * out_channels)\n",
        "            downsample = nn.Sequential(conv, bn)\n",
        "        else:\n",
        "            downsample = None\n",
        "            \n",
        "        self.downsample = downsample\n",
        "        \n",
        "    def forward(self, x):\n",
        "        \n",
        "        i = x\n",
        "        \n",
        "        x = self.conv1(x)\n",
        "        x = self.bn1(x)\n",
        "        x = self.relu(x)\n",
        "        \n",
        "        x = self.conv2(x)\n",
        "        x = self.bn2(x)\n",
        "        x = self.relu(x)\n",
        "        \n",
        "        x = self.conv3(x)\n",
        "        x = self.bn3(x)\n",
        "                \n",
        "        if self.downsample is not None:\n",
        "            i = self.downsample(i)\n",
        "            \n",
        "        x += i\n",
        "        x = self.relu(x)\n",
        "    \n",
        "        return x"
      ]
    },
    {
      "cell_type": "markdown",
      "metadata": {
        "id": "7i-p7qAABkYg"
      },
      "source": [
        "Below are the configurations for the ResNet50, ResNet101 and ResNet152 models. \n",
        "\n",
        "Similar to the ResNet18 and ResNet34 models, the `channels` do not change between configurations, just the number of blocks in each layer.\n",
        "\n",
        "We can use the configurations to get the actual models as:\n",
        "\n",
        "```python\n",
        "resnet50 = ResNet(resnet50_config, output_dim)\n",
        "resnet101 = ResNet(resnet101_config, output_dim)\n",
        "resnet152 = ResNet(resnet152_config, output_dim)\n",
        "```"
      ]
    },
    {
      "cell_type": "code",
      "execution_count": null,
      "metadata": {
        "id": "qIFUiYaCBkYg"
      },
      "outputs": [],
      "source": [
        "resnet50_config = ResNetConfig(block = Bottleneck,\n",
        "                               n_blocks = [3, 4, 6, 3],\n",
        "                               channels = [64, 128, 256, 512])\n",
        "\n",
        "resnet101_config = ResNetConfig(block = Bottleneck,\n",
        "                                n_blocks = [3, 4, 23, 3],\n",
        "                                channels = [64, 128, 256, 512])\n",
        "\n",
        "resnet152_config = ResNetConfig(block = Bottleneck,\n",
        "                                n_blocks = [3, 8, 36, 3],\n",
        "                                channels = [64, 128, 256, 512])"
      ]
    },
    {
      "cell_type": "markdown",
      "metadata": {
        "id": "SmLssdUIBkYi"
      },
      "source": [
        "The ResNet paper also covers variants specifically for the CIFAR10/100 datasets which we'll very briefly cover here. The code for them is adapted from [this](https://github.com/akamaster/pytorch_resnet_cifar10) repository.\n",
        "\n",
        "The initial convolutional layer has smaller filter size, lower stride and less padding, and is not followed by a pooling layer. It also only has 3 layers, instead of 4, and has its own type of block.\n",
        "\n",
        "One requirement is that the number of channels for each layer has to be exactly double that of the previous layer - this is checked by the second `assert` statement."
      ]
    },
    {
      "cell_type": "code",
      "execution_count": null,
      "metadata": {
        "id": "jkgvMjVzBkYj"
      },
      "outputs": [],
      "source": [
        "class CIFARResNet(nn.Module):\n",
        "    def __init__(self, config, output_dim):\n",
        "        super().__init__()\n",
        "                \n",
        "        block, layers, channels = config\n",
        "        self.in_channels = channels[0]\n",
        "            \n",
        "        assert len(layers) == len(channels) == 3\n",
        "        assert all([i == j*2 for i, j in zip(channels[1:], channels[:-1])])\n",
        "        \n",
        "        self.conv1 = nn.Conv2d(3, self.in_channels, kernel_size = 3, stride = 1, padding = 1, bias = False)\n",
        "        self.bn1 = nn.BatchNorm2d(self.in_channels)\n",
        "        self.relu = nn.ReLU(inplace = True)\n",
        "        \n",
        "        self.layer1 = self.get_resnet_layer(block, layers[0], channels[0])\n",
        "        self.layer2 = self.get_resnet_layer(block, layers[1], channels[1], stride = 2)\n",
        "        self.layer3 = self.get_resnet_layer(block, layers[2], channels[2], stride = 2)\n",
        "        \n",
        "        self.avgpool = nn.AdaptiveAvgPool2d((1,1))\n",
        "        self.fc = nn.Linear(self.in_channels, output_dim)\n",
        "        \n",
        "    def get_resnet_layer(self, block, n_blocks, channels, stride = 1):\n",
        "    \n",
        "        layers = []\n",
        "        \n",
        "        if self.in_channels != channels:\n",
        "            downsample = True\n",
        "        else:\n",
        "            downsample = False\n",
        "        \n",
        "        layers.append(block(self.in_channels, channels, stride, downsample))\n",
        "        \n",
        "        for i in range(1, n_blocks):\n",
        "            layers.append(block(channels, channels))\n",
        "\n",
        "        self.in_channels = channels\n",
        "            \n",
        "        return nn.Sequential(*layers)\n",
        "        \n",
        "    def forward(self, x):\n",
        "        \n",
        "        x = self.conv1(x)\n",
        "        x = self.bn1(x)\n",
        "        x = self.relu(x)\n",
        "\n",
        "        x = self.layer1(x)\n",
        "        x = self.layer2(x)\n",
        "        x = self.layer3(x)\n",
        "        \n",
        "        x = self.avgpool(x)\n",
        "        h = x.view(x.shape[0], -1)\n",
        "        x = self.fc(h)\n",
        "        \n",
        "        return x, h"
      ]
    },
    {
      "cell_type": "markdown",
      "metadata": {
        "id": "fvi8GXhqBkYl"
      },
      "source": [
        "The `CIFARBasicBlock` is similar to the standard `BasicBlock`, the only difference is in the downsampling residual connection.\n",
        "\n",
        "The [paper](https://arxiv.org/abs/1512.03385) states that the ResNet models for CIFAR use a downsampling connection that uses \"zero padding\" and \"all shortcuts are parameter free\". We achieve this by using an `Identity` module, which is initialized with a function and applies that function when called.\n",
        "\n",
        "For the function, we first slice the input with `x[:, :, ::2, ::2]`. This removes every other row and column in the image - downsampling it by simply throwing away pixels - whilst keeping the number of channels (depth) the same.\n",
        "\n",
        "![](https://github.com/bentrevett/pytorch-image-classification/blob/master/assets/resnet-pad.png?raw=1)\n",
        "\n",
        "We then double the number of channels with zeros using `pad`, which adds half the padding on to the front of the depth dimension, and half to the back."
      ]
    },
    {
      "cell_type": "code",
      "execution_count": null,
      "metadata": {
        "id": "6efa5q26BkYl"
      },
      "outputs": [],
      "source": [
        "class Identity(nn.Module):\n",
        "    def __init__(self, f):\n",
        "        super().__init__()\n",
        "        self.f = f\n",
        "        \n",
        "    def forward(self, x):\n",
        "        return self.f(x)\n",
        "        \n",
        "\n",
        "class CIFARBasicBlock(nn.Module):\n",
        "        \n",
        "    def __init__(self, in_channels, out_channels, stride = 1, downsample = False):\n",
        "        super().__init__()\n",
        "                \n",
        "        self.conv1 = nn.Conv2d(in_channels, out_channels, kernel_size = 3, \n",
        "                               stride = stride, padding = 1, bias = False)\n",
        "        self.bn1 = nn.BatchNorm2d(out_channels)\n",
        "        \n",
        "        self.conv2 = nn.Conv2d(out_channels, out_channels, kernel_size = 3, \n",
        "                               stride = 1, padding = 1, bias = False)\n",
        "        self.bn2 = nn.BatchNorm2d(out_channels)\n",
        "        \n",
        "        self.relu = nn.ReLU(inplace = True)\n",
        "        \n",
        "        if downsample:\n",
        "            identity_fn = lambda x : F.pad(x[:, :, ::2, ::2], \n",
        "                                           [0, 0, 0, 0, in_channels // 2, in_channels // 2])\n",
        "            downsample = Identity(identity_fn)\n",
        "        else:\n",
        "            downsample = None\n",
        "        \n",
        "        self.downsample = downsample\n",
        "        \n",
        "    def forward(self, x):\n",
        "        \n",
        "        i = x\n",
        "        \n",
        "        x = self.conv1(x)\n",
        "        x = self.bn1(x)\n",
        "        x = self.relu(x)\n",
        "        \n",
        "        x = self.conv2(x)\n",
        "        x = self.bn2(x)\n",
        "        \n",
        "        if self.downsample is not None:\n",
        "            i = self.downsample(i)\n",
        "                                \n",
        "        x += i\n",
        "        x = self.relu(x)\n",
        "        \n",
        "        return x"
      ]
    },
    {
      "cell_type": "markdown",
      "metadata": {
        "id": "W_6EBn60BkYn"
      },
      "source": [
        "Below are the configurations for the CIFAR ResNet models. \n",
        "\n",
        "Similar to previous ResNet models, the `channels` do not change across configurations, just the number of blocks in each layer.\n",
        "\n",
        "We can use the configurations to get the actual models as:\n",
        "\n",
        "```python\n",
        "ciafar_resnet_20 = CIFARResNet(cifar_resnet20_config, output_dim)\n",
        "ciafar_resnet_32 = CIFARResNet(cifar_resnet32_config, output_dim)\n",
        "ciafar_resnet_44 = CIFARResNet(cifar_resnet44_config, output_dim)\n",
        "```"
      ]
    },
    {
      "cell_type": "code",
      "execution_count": null,
      "metadata": {
        "id": "Gia65Dx6BkYo"
      },
      "outputs": [],
      "source": [
        "cifar_resnet20_config = ResNetConfig(block = CIFARBasicBlock,\n",
        "                                     n_blocks = [3, 3, 3],\n",
        "                                     channels = [16, 32, 64])\n",
        "\n",
        "cifar_resnet32_config = ResNetConfig(block = CIFARBasicBlock,\n",
        "                                     n_blocks = [5, 5, 5],\n",
        "                                     channels = [16, 32, 64])\n",
        "\n",
        "cifar_resnet44_config = ResNetConfig(block = CIFARBasicBlock,\n",
        "                                     n_blocks = [7, 7, 7],\n",
        "                                     channels = [16, 32, 64])\n",
        "\n",
        "cifar_resnet56_config = ResNetConfig(block = CIFARBasicBlock,\n",
        "                                     n_blocks = [9, 9, 9],\n",
        "                                     channels = [16, 32, 64])\n",
        "\n",
        "cifar_resnet110_config = ResNetConfig(block = CIFARBasicBlock,\n",
        "                                      n_blocks = [18, 18, 18],\n",
        "                                      channels = [16, 32, 64])\n",
        "\n",
        "cifar_resnet1202_config = ResNetConfig(block = CIFARBasicBlock,\n",
        "                                       n_blocks = [20, 20, 20],\n",
        "                                       channels = [16, 32, 64])"
      ]
    },
    {
      "cell_type": "markdown",
      "metadata": {
        "id": "yMbR6C11BkYq"
      },
      "source": [
        "The images in our dataset are around 500x500 pixels in size, much larger than the 32x32 images used in the CIFAR dataset. This means it's more appropriate for us to use one of the standard ResNet models, instead of the CIFAR versions.\n",
        "\n",
        "We'll choose ResNet50 as it seems to be the most commonly used ResNet variant. \n",
        "\n",
        "As we have a relatively small dataset - 12,000 images - with a very small amount of examples per class - 60 images - we'll be using a pre-trained model.\n",
        "\n",
        "Torchvision provides pre-trained models for all of the standard ResNet variants, but unfortunately not for any of the CIFAR ResNet models.\n",
        "\n",
        "First, we load the pre-trained ResNet model."
      ]
    },
    {
      "cell_type": "code",
      "execution_count": null,
      "metadata": {
        "id": "qsjfsiUhRZUD"
      },
      "outputs": [],
      "source": [
        "pretrained_model = models.resnet50(pretrained = True)"
      ]
    },
    {
      "cell_type": "markdown",
      "metadata": {
        "id": "WP0QAUDUBkYs"
      },
      "source": [
        "We can see that the final linear layer for the classification, `fc`, has a 1000-dimensional output as it was pre-trained on the ImageNet dataset, which has 1000 classes. "
      ]
    },
    {
      "cell_type": "code",
      "execution_count": null,
      "metadata": {
        "id": "fPwZPcoZBkYt"
      },
      "outputs": [],
      "source": [
        "print(pretrained_model)"
      ]
    },
    {
      "cell_type": "markdown",
      "metadata": {
        "id": "9te929fMBkYw"
      },
      "source": [
        "Our dataset, however, only has 200 classes, so we first create a new linear layer with the required dimensions."
      ]
    },
    {
      "cell_type": "code",
      "execution_count": null,
      "metadata": {
        "id": "Jf6xf2WVcNfY"
      },
      "outputs": [],
      "source": [
        "IN_FEATURES = pretrained_model.fc.in_features \n",
        "OUTPUT_DIM = len(test_data.classes)\n",
        "\n",
        "fc = nn.Linear(IN_FEATURES, OUTPUT_DIM)"
      ]
    },
    {
      "cell_type": "markdown",
      "metadata": {
        "id": "ZMFyzFh-BkYy"
      },
      "source": [
        "Then, we replace the pre-trained model's linear layer with our own, randomly initialized linear layer.\n",
        "\n",
        "**Note:** even if our dataset had 1000 classes, the same as ImageNet, we would still remove the linear layer and replace it with a randomly initialized one as our classes are not equal to those of ImageNet. "
      ]
    },
    {
      "cell_type": "code",
      "execution_count": null,
      "metadata": {
        "id": "9Ol3c207BkYz"
      },
      "outputs": [],
      "source": [
        "pretrained_model.fc = fc"
      ]
    },
    {
      "cell_type": "markdown",
      "metadata": {
        "id": "FgUgcSSPBkY1"
      },
      "source": [
        "The pre-trained ResNet model provided by torchvision does not provide an intermediate output, which we'd like to potentially use for analysis. We solve this by initializing our own ResNet50 model and then copying the pre-trained parameters into our model.\n",
        "\n",
        "We then initialize our ResNet50 model from the configuration..."
      ]
    },
    {
      "cell_type": "code",
      "execution_count": null,
      "metadata": {
        "id": "O5rk-jdoBkY1"
      },
      "outputs": [],
      "source": [
        "model = ResNet(resnet50_config, OUTPUT_DIM)"
      ]
    },
    {
      "cell_type": "markdown",
      "metadata": {
        "id": "g7HR-8DtBkY4"
      },
      "source": [
        "...then we load the parameters (called `state_dict` in PyTorch) of the pre-trained model into our model.\n",
        "\n",
        "This is also a good sanity check to ensure our ResNet model matches those used by torchvision."
      ]
    },
    {
      "cell_type": "code",
      "execution_count": null,
      "metadata": {
        "id": "9lvhwjV2BkY5"
      },
      "outputs": [],
      "source": [
        "model.load_state_dict(pretrained_model.state_dict())"
      ]
    },
    {
      "cell_type": "markdown",
      "metadata": {
        "id": "TAlT4YOtBkY7"
      },
      "source": [
        "We can also see the number of parameters in our model - noticing that ResNet50 only has ~24M parameters compared to VGG11's ~129M. This is mostly due to the lack of high dimensional linear layers which have been replaced by more parameter efficient convolutional layers."
      ]
    },
    {
      "cell_type": "code",
      "execution_count": null,
      "metadata": {
        "id": "RwlzAhurBkY7"
      },
      "outputs": [],
      "source": [
        "def count_parameters(model):\n",
        "    return sum(p.numel() for p in model.parameters() if p.requires_grad)\n",
        "\n",
        "print(f'The model has {count_parameters(model):,} trainable parameters')"
      ]
    },
    {
      "cell_type": "markdown",
      "metadata": {
        "id": "pAmuYsW0BkY9"
      },
      "source": [
        "### Training the Model\n",
        "\n",
        "Next we'll move on to training our model. As in previous notebooks, we'll use the learning rate finder to set a suitable learning rate for our model.\n",
        "\n",
        "We start by initializing an optimizer with a very low learning rate, defining a loss function (`criterion`) and device, and then placing the model and the loss function on to the device."
      ]
    },
    {
      "cell_type": "code",
      "execution_count": null,
      "metadata": {
        "id": "4Cuqluk1ZNOW"
      },
      "outputs": [],
      "source": [
        "START_LR = 1e-7\n",
        "\n",
        "optimizer = optim.Adam(model.parameters(), lr=START_LR)\n",
        "\n",
        "device = torch.device('cuda' if torch.cuda.is_available() else 'cpu')\n",
        "\n",
        "criterion = nn.CrossEntropyLoss()\n",
        "\n",
        "model = model.to(device)\n",
        "criterion = criterion.to(device)"
      ]
    },
    {
      "cell_type": "markdown",
      "metadata": {
        "id": "6Kul0S5jBkZA"
      },
      "source": [
        "We define the learning rate finder class.\n",
        "\n",
        "See notebook 3 for a reminder on how this works."
      ]
    },
    {
      "cell_type": "code",
      "execution_count": null,
      "metadata": {
        "id": "2JSiXTj3ZfwJ"
      },
      "outputs": [],
      "source": [
        "class LRFinder:\n",
        "    def __init__(self, model, optimizer, criterion, device):\n",
        "        \n",
        "        self.optimizer = optimizer\n",
        "        self.model = model\n",
        "        self.criterion = criterion\n",
        "        self.device = device\n",
        "        \n",
        "        torch.save(model.state_dict(), 'init_params.pt')\n",
        "\n",
        "    def range_test(self, iterator, end_lr = 10, num_iter = 100, \n",
        "                   smooth_f = 0.05, diverge_th = 5):\n",
        "        \n",
        "        lrs = []\n",
        "        losses = []\n",
        "        best_loss = float('inf')\n",
        "\n",
        "        lr_scheduler = ExponentialLR(self.optimizer, end_lr, num_iter)\n",
        "        \n",
        "        iterator = IteratorWrapper(iterator)\n",
        "        \n",
        "        for iteration in range(num_iter):\n",
        "\n",
        "            loss = self._train_batch(iterator)\n",
        "\n",
        "            #update lr\n",
        "            lr_scheduler.step()\n",
        "            \n",
        "            lrs.append(lr_scheduler.get_lr()[0])\n",
        "\n",
        "            if iteration > 0:\n",
        "                loss = smooth_f * loss + (1 - smooth_f) * losses[-1]\n",
        "                \n",
        "            if loss < best_loss:\n",
        "                best_loss = loss\n",
        "\n",
        "            losses.append(loss)\n",
        "            \n",
        "            if loss > diverge_th * best_loss:\n",
        "                print(\"Stopping early, the loss has diverged\")\n",
        "                break\n",
        "                       \n",
        "        #reset model to initial parameters\n",
        "        model.load_state_dict(torch.load('init_params.pt'))\n",
        "                    \n",
        "        return lrs, losses\n",
        "\n",
        "    def _train_batch(self, iterator):\n",
        "        \n",
        "        self.model.train()\n",
        "        \n",
        "        self.optimizer.zero_grad()\n",
        "        \n",
        "        x, y = iterator.get_batch()\n",
        "        \n",
        "        x = x.to(self.device)\n",
        "        y = y.to(self.device)\n",
        "        \n",
        "        y_pred, _ = self.model(x)\n",
        "                \n",
        "        loss = self.criterion(y_pred, y)\n",
        "        \n",
        "        loss.backward()\n",
        "        \n",
        "        self.optimizer.step()\n",
        "        \n",
        "        return loss.item()\n",
        "\n",
        "class ExponentialLR(_LRScheduler):\n",
        "    def __init__(self, optimizer, end_lr, num_iter, last_epoch=-1):\n",
        "        self.end_lr = end_lr\n",
        "        self.num_iter = num_iter\n",
        "        super(ExponentialLR, self).__init__(optimizer, last_epoch)\n",
        "\n",
        "    def get_lr(self):\n",
        "        curr_iter = self.last_epoch + 1\n",
        "        r = curr_iter / self.num_iter\n",
        "        return [base_lr * (self.end_lr / base_lr) ** r for base_lr in self.base_lrs]\n",
        "\n",
        "class IteratorWrapper:\n",
        "    def __init__(self, iterator):\n",
        "        self.iterator = iterator\n",
        "        self._iterator = iter(iterator)\n",
        "\n",
        "    def __next__(self):\n",
        "        try:\n",
        "            inputs, labels = next(self._iterator)\n",
        "        except StopIteration:\n",
        "            self._iterator = iter(self.iterator)\n",
        "            inputs, labels, *_ = next(self._iterator)\n",
        "\n",
        "        return inputs, labels\n",
        "\n",
        "    def get_batch(self):\n",
        "        return next(self)"
      ]
    },
    {
      "cell_type": "markdown",
      "metadata": {
        "id": "meQZv6RkBkZF"
      },
      "source": [
        "We then define our learning rate finder and run the range test."
      ]
    },
    {
      "cell_type": "code",
      "execution_count": null,
      "metadata": {
        "id": "fxtlrpfWZk8t"
      },
      "outputs": [],
      "source": [
        "END_LR = 10\n",
        "NUM_ITER = 100\n",
        "\n",
        "lr_finder = LRFinder(model, optimizer, criterion, device)\n",
        "lrs, losses = lr_finder.range_test(train_iterator, END_LR, NUM_ITER)"
      ]
    },
    {
      "cell_type": "markdown",
      "metadata": {
        "id": "w-QTkQb6BkZJ"
      },
      "source": [
        "Next, we define a function to plot the results of the range test."
      ]
    },
    {
      "cell_type": "code",
      "execution_count": null,
      "metadata": {
        "id": "BBzT3twzZnAW"
      },
      "outputs": [],
      "source": [
        "def plot_lr_finder(lrs, losses, skip_start = 5, skip_end = 5):\n",
        "    \n",
        "    if skip_end == 0:\n",
        "        lrs = lrs[skip_start:]\n",
        "        losses = losses[skip_start:]\n",
        "    else:\n",
        "        lrs = lrs[skip_start:-skip_end]\n",
        "        losses = losses[skip_start:-skip_end]\n",
        "    \n",
        "    fig = plt.figure(figsize = (16,8))\n",
        "    ax = fig.add_subplot(1,1,1)\n",
        "    ax.plot(lrs, losses)\n",
        "    ax.set_xscale('log')\n",
        "    ax.set_xlabel('Learning rate')\n",
        "    ax.set_ylabel('Loss')\n",
        "    ax.grid(True, 'both', 'x')\n",
        "    plt.show()"
      ]
    },
    {
      "cell_type": "markdown",
      "metadata": {
        "id": "XG-dUhQdBkZN"
      },
      "source": [
        "We can see that the loss reaches a minimum at around $3x10^{-3}$.\n",
        "\n",
        "A good learning rate to choose here would be the middle of the steepest downward curve - which is around $1x10^{-3}$."
      ]
    },
    {
      "cell_type": "code",
      "execution_count": null,
      "metadata": {
        "id": "BnIQz0g4Zp5n"
      },
      "outputs": [],
      "source": [
        "plot_lr_finder(lrs, losses, skip_start = 30, skip_end = 30)"
      ]
    },
    {
      "cell_type": "markdown",
      "metadata": {
        "id": "UMQjXRcaBkZQ"
      },
      "source": [
        "We can then set the learning rates of our model using discriminative fine-tuning - a technique used in transfer learning where later layers in a model have higher learning rates than earlier ones.\n",
        "\n",
        "We use the learning rate found by the learning rate finder as the maximum learning rate - used in the final layer - whilst the remaining layers have a lower learning rate, gradually decreasing towards the input. "
      ]
    },
    {
      "cell_type": "code",
      "execution_count": null,
      "metadata": {
        "id": "fDjS7JvNBkZR"
      },
      "outputs": [],
      "source": [
        "FOUND_LR = 1e-3\n",
        "\n",
        "params = [\n",
        "          {'params': model.conv1.parameters(), 'lr': FOUND_LR / 10},\n",
        "          {'params': model.bn1.parameters(), 'lr': FOUND_LR / 10},\n",
        "          {'params': model.layer1.parameters(), 'lr': FOUND_LR / 8},\n",
        "          {'params': model.layer2.parameters(), 'lr': FOUND_LR / 6},\n",
        "          {'params': model.layer3.parameters(), 'lr': FOUND_LR / 4},\n",
        "          {'params': model.layer4.parameters(), 'lr': FOUND_LR / 2},\n",
        "          {'params': model.fc.parameters()}\n",
        "         ]\n",
        "\n",
        "\n",
        "optimizer = optim.Adam(params, lr = FOUND_LR)"
      ]
    },
    {
      "cell_type": "markdown",
      "metadata": {
        "id": "-Uq_OykQBkZU"
      },
      "source": [
        "Next up, we set the learning rate scheduler. A learning rate scheduler dynamically alters the learning rate whilst the model is training. We'll be using the one cycle learning rate scheduler, however [many](https://pytorch.org/docs/stable/optim.html#how-to-adjust-learning-rate) schedulers are available in PyTorch.\n",
        "\n",
        "The one cycle learning rate scheduler starts with a small initial learning rate which is gradually increased to a maximum value - the value found by our learning rate finder - it then slowly decreases the learning rate to a final value smaller than the initial learning rate. This learning rate is updated after every parameter update step, i.e. after every training batch. For our model, the learning rate for the final `fc` layer throughout training will look like:\n",
        "\n",
        "![](https://github.com/bentrevett/pytorch-image-classification/blob/master/assets/lr-scheduler.png?raw=1)\n",
        "\n",
        "As we can see, it starts at slightly less than $1x10^{-4}$ before gradually increasing to the maximum value of $1x10^{-3}$ at around a third of the way through training, then it begins decreasing to almost zero.\n",
        "\n",
        "The different parameter groups defined by the optimizer for the discriminative fine-tuning will all have their own learning rate curves, each with different starting and maximum values.\n",
        "\n",
        "The hypothesis is that the initial stage where the learning rate increases is a \"warm-up\" phase is used to get the model into a generally good area of the loss landscape. The middle of the curve, where the learning rate is at maximum is supposedly good for acting as a regularization method and prevents the model from overfitting or becoming stuck in saddle points. Finally, the \"cool-down\" phase, where the learning rate decreases, is used to reach small crevices in the loss surface which have a lower loss value.\n",
        "\n",
        "The one cycle learning rate also cycles the momentum of the optimizer. The momentum is cycled from a maximum value, down to a minimum and then back up to the maximum where it is held constant for the last few steps. The default maximum and minimum values of momentum used by PyTorch's one cycle learning rate scheduler should be sufficient and we will not change them.\n",
        "\n",
        "To set-up the one cycle learning rate scheduler we need the total number of steps that will occur during training. We simply get this by multiplying the number of epochs with the number of batches in the training iterator, i.e. number of parameter updates. We get the maximum learning rate for each parameter group and pass this to `max_lr`. **Note:** if you only pass a single learning rate and not a list of learning rates then the scheduler will assume this learning rate should be used for all parameters and will **not** do discriminative fine-tuning."
      ]
    },
    {
      "cell_type": "code",
      "execution_count": null,
      "metadata": {
        "id": "riS8zV2IxVMK"
      },
      "outputs": [],
      "source": [
        "EPOCHS = 10\n",
        "STEPS_PER_EPOCH = len(train_iterator)\n",
        "TOTAL_STEPS = EPOCHS * STEPS_PER_EPOCH\n",
        "\n",
        "MAX_LRS = [p['lr'] for p in optimizer.param_groups]\n",
        "\n",
        "scheduler = lr_scheduler.OneCycleLR(optimizer,\n",
        "                                    max_lr = MAX_LRS,\n",
        "                                    total_steps = TOTAL_STEPS)"
      ]
    },
    {
      "cell_type": "markdown",
      "metadata": {
        "id": "qsvplN-tBkZX"
      },
      "source": [
        "One other thing we are going to implement is top-k accuracy. Our task is to classify an image into one of 200 classes of bird, however some of these classes look very similar and it is even difficult for a human to correctly label them. So, maybe we should be more lenient when calculating accuracy? \n",
        "\n",
        "One method of solving this is using top-k accuracy, where the prediction is labelled correct if the correct label is in the top-k predictions, instead of just being the first. Our `calculate_topk_accuracy` function calculates the top-1 accuracy as well as the top-k accuracy, with $k=5$ by default.\n",
        "\n",
        "We use `.reshape` instead of view here as the slices into tensors cause them to become non-contiguous which means `.view` throws an error. As a rule of thumb, if you are aiming to change the size/shape of sliced tensors then you should probably use `.reshape` instead of `.view`.\n",
        "\n",
        "**Note:** our value of k should be chosen sensibly. If we had a dataset with 10 classes then a k of 5 isn't really that informative."
      ]
    },
    {
      "cell_type": "code",
      "execution_count": null,
      "metadata": {
        "id": "t_EKb_cNadbI"
      },
      "outputs": [],
      "source": [
        "def calculate_topk_accuracy(y_pred, y, k = 5):\n",
        "    with torch.no_grad():\n",
        "        batch_size = y.shape[0]\n",
        "        _, top_pred = y_pred.topk(k, 1)\n",
        "        top_pred = top_pred.t()\n",
        "        correct = top_pred.eq(y.view(1, -1).expand_as(top_pred))\n",
        "        correct_1 = correct[:1].reshape(-1).float().sum(0, keepdim = True)\n",
        "        correct_k = correct[:k].reshape(-1).float().sum(0, keepdim = True)\n",
        "        acc_1 = correct_1 / batch_size\n",
        "        acc_k = correct_k / batch_size\n",
        "    return acc_1, acc_k"
      ]
    },
    {
      "cell_type": "markdown",
      "metadata": {
        "id": "LhVOm-xcBkZa"
      },
      "source": [
        "Next up is the training function. This is similar to all the previous notebooks, but with the addition of the `scheduler` and calculating/returning top-k accuracy.\n",
        "\n",
        "The scheduler is updated by calling `scheduler.step()`. This should always be called **after** `optimizer.step()` or else the first learning rate of the scheduler will be skipped. \n",
        "\n",
        "Not all schedulers need to be called after each training batch, some are only called after each epoch. In that case, the scheduler does not need to be passed to the `train` function and can be called in the main training loop."
      ]
    },
    {
      "cell_type": "code",
      "execution_count": null,
      "metadata": {
        "id": "Qr6Je0jMafsp"
      },
      "outputs": [],
      "source": [
        "def train(model, iterator, optimizer, criterion, scheduler, device):\n",
        "    \n",
        "    epoch_loss = 0\n",
        "    epoch_acc_1 = 0\n",
        "    epoch_acc_5 = 0\n",
        "    \n",
        "    model.train()\n",
        "    \n",
        "    for (x, y) in iterator:\n",
        "        \n",
        "        x = x.to(device)\n",
        "        y = y.to(device)\n",
        "        \n",
        "        optimizer.zero_grad()\n",
        "                \n",
        "        y_pred, _ = model(x)\n",
        "        \n",
        "        loss = criterion(y_pred, y)\n",
        "        \n",
        "        acc_1, acc_5 = calculate_topk_accuracy(y_pred, y)\n",
        "        \n",
        "        loss.backward()\n",
        "        \n",
        "        optimizer.step()\n",
        "        \n",
        "        scheduler.step()\n",
        "        \n",
        "        epoch_loss += loss.item()\n",
        "        epoch_acc_1 += acc_1.item()\n",
        "        epoch_acc_5 += acc_5.item()\n",
        "        \n",
        "    epoch_loss /= len(iterator)\n",
        "    epoch_acc_1 /= len(iterator)\n",
        "    epoch_acc_5 /= len(iterator)\n",
        "        \n",
        "    return epoch_loss, epoch_acc_1, epoch_acc_5"
      ]
    },
    {
      "cell_type": "markdown",
      "metadata": {
        "id": "ZNCuH35gBkZd"
      },
      "source": [
        "The evaluation function is also similar to previous notebooks, with the addition of the top-k accuracy.\n",
        "\n",
        "As the one cycle scheduler should only be called after each parameter update, it is not called here as we do not update parameters whilst evaluating."
      ]
    },
    {
      "cell_type": "code",
      "execution_count": null,
      "metadata": {
        "id": "85FW74KaakI_"
      },
      "outputs": [],
      "source": [
        "def evaluate(model, iterator, criterion, device):\n",
        "    \n",
        "    epoch_loss = 0\n",
        "    epoch_acc_1 = 0\n",
        "    epoch_acc_5 = 0\n",
        "    \n",
        "    model.eval()\n",
        "    \n",
        "    with torch.no_grad():\n",
        "        \n",
        "        for (x, y) in iterator:\n",
        "\n",
        "            x = x.to(device)\n",
        "            y = y.to(device)\n",
        "\n",
        "            y_pred, _ = model(x)\n",
        "\n",
        "            loss = criterion(y_pred, y)\n",
        "\n",
        "            acc_1, acc_5 = calculate_topk_accuracy(y_pred, y)\n",
        "\n",
        "            epoch_loss += loss.item()\n",
        "            epoch_acc_1 += acc_1.item()\n",
        "            epoch_acc_5 += acc_5.item()\n",
        "        \n",
        "    epoch_loss /= len(iterator)\n",
        "    epoch_acc_1 /= len(iterator)\n",
        "    epoch_acc_5 /= len(iterator)\n",
        "        \n",
        "    return epoch_loss, epoch_acc_1, epoch_acc_5"
      ]
    },
    {
      "cell_type": "markdown",
      "metadata": {
        "id": "k1KTGJyxBkZf"
      },
      "source": [
        "Next, a small helper function which tells us how long an epoch has taken."
      ]
    },
    {
      "cell_type": "code",
      "execution_count": null,
      "metadata": {
        "id": "wkR6LzakamOV"
      },
      "outputs": [],
      "source": [
        "def epoch_time(start_time, end_time):\n",
        "    elapsed_time = end_time - start_time\n",
        "    elapsed_mins = int(elapsed_time / 60)\n",
        "    elapsed_secs = int(elapsed_time - (elapsed_mins * 60))\n",
        "    return elapsed_mins, elapsed_secs"
      ]
    },
    {
      "cell_type": "markdown",
      "metadata": {
        "id": "gTUb3MftBkZh"
      },
      "source": [
        "Finally, we can train our model!\n",
        "\n",
        "We get around 80% top-1 and 95% top-5 validation accuracy."
      ]
    },
    {
      "cell_type": "code",
      "execution_count": null,
      "metadata": {
        "id": "lvoyX823apEN"
      },
      "outputs": [],
      "source": [
        "best_valid_loss = float('inf')\n",
        "\n",
        "for epoch in range(EPOCHS):\n",
        "    \n",
        "    start_time = time.monotonic()\n",
        "    \n",
        "    train_loss, train_acc_1, train_acc_5 = train(model, train_iterator, optimizer, criterion, scheduler, device)\n",
        "    valid_loss, valid_acc_1, valid_acc_5 = evaluate(model, valid_iterator, criterion, device)\n",
        "        \n",
        "    if valid_loss < best_valid_loss:\n",
        "        best_valid_loss = valid_loss\n",
        "        torch.save(model.state_dict(), 'tut5-model.pt')\n",
        "\n",
        "    end_time = time.monotonic()\n",
        "\n",
        "    epoch_mins, epoch_secs = epoch_time(start_time, end_time)\n",
        "    \n",
        "    print(f'Epoch: {epoch+1:02} | Epoch Time: {epoch_mins}m {epoch_secs}s')\n",
        "    print(f'\\tTrain Loss: {train_loss:.3f} | Train Acc @1: {train_acc_1*100:6.2f}% | ' \\\n",
        "          f'Train Acc @5: {train_acc_5*100:6.2f}%')\n",
        "    print(f'\\tValid Loss: {valid_loss:.3f} | Valid Acc @1: {valid_acc_1*100:6.2f}% | ' \\\n",
        "          f'Valid Acc @5: {valid_acc_5*100:6.2f}%')"
      ]
    },
    {
      "cell_type": "markdown",
      "metadata": {
        "id": "ZFxCXpuxBkZj"
      },
      "source": [
        "The test accuracies are a little lower than the validation accuracies, but not by so much that we should be concerned."
      ]
    },
    {
      "cell_type": "code",
      "execution_count": null,
      "metadata": {
        "id": "fOla2axMBkZk"
      },
      "outputs": [],
      "source": [
        "model.load_state_dict(torch.load('tut5-model.pt'))\n",
        "\n",
        "test_loss, test_acc_1, test_acc_5 = evaluate(model, test_iterator, criterion, device)\n",
        "\n",
        "print(f'Test Loss: {test_loss:.3f} | Test Acc @1: {test_acc_1*100:6.2f}% | ' \\\n",
        "      f'Test Acc @5: {test_acc_5*100:6.2f}%')"
      ]
    },
    {
      "cell_type": "markdown",
      "metadata": {
        "id": "ORmtSernBkZo"
      },
      "source": [
        "### Examining the Model\n",
        "\n",
        "We'll be doing the same examinations of the model as done in previous notebooks.\n",
        "\n",
        "First, we get the predictions for each image in the test set..."
      ]
    },
    {
      "cell_type": "code",
      "execution_count": null,
      "metadata": {
        "id": "AlCBiYxQbi4s"
      },
      "outputs": [],
      "source": [
        "def get_predictions(model, iterator):\n",
        "\n",
        "    model.eval()\n",
        "\n",
        "    images = []\n",
        "    labels = []\n",
        "    probs = []\n",
        "\n",
        "    with torch.no_grad():\n",
        "\n",
        "        for (x, y) in iterator:\n",
        "\n",
        "            x = x.to(device)\n",
        "\n",
        "            y_pred, _ = model(x)\n",
        "\n",
        "            y_prob = F.softmax(y_pred, dim = -1)\n",
        "            top_pred = y_prob.argmax(1, keepdim = True)\n",
        "\n",
        "            images.append(x.cpu())\n",
        "            labels.append(y.cpu())\n",
        "            probs.append(y_prob.cpu())\n",
        "\n",
        "    images = torch.cat(images, dim = 0)\n",
        "    labels = torch.cat(labels, dim = 0)\n",
        "    probs = torch.cat(probs, dim = 0)\n",
        "\n",
        "    return images, labels, probs"
      ]
    },
    {
      "cell_type": "code",
      "execution_count": null,
      "metadata": {
        "id": "JmfK-IZ6bmlz"
      },
      "outputs": [],
      "source": [
        "images, labels, probs = get_predictions(model, test_iterator)"
      ]
    },
    {
      "cell_type": "markdown",
      "metadata": {
        "id": "scfRUtDKBkZt"
      },
      "source": [
        "... which we then use to get the predicted labels."
      ]
    },
    {
      "cell_type": "code",
      "execution_count": null,
      "metadata": {
        "id": "zR__HoORbpXV"
      },
      "outputs": [],
      "source": [
        "pred_labels = torch.argmax(probs, 1)"
      ]
    },
    {
      "cell_type": "markdown",
      "metadata": {
        "id": "NE_xrcm3BkZw"
      },
      "source": [
        "We then use this to plot a confusion matrix.\n",
        "\n",
        "A 200x200 confusion matrix is pretty large, so we've increased the figure size and removed the colorbar. The text is still too small to read, but all we care about is that the diagonals are generally darker than the rest of the matrix - which they are."
      ]
    },
    {
      "cell_type": "code",
      "execution_count": null,
      "metadata": {
        "id": "hupBoXNhbqe_"
      },
      "outputs": [],
      "source": [
        "def plot_confusion_matrix(labels, pred_labels, classes):\n",
        "    \n",
        "    fig = plt.figure(figsize = (50, 50));\n",
        "    ax = fig.add_subplot(1, 1, 1);\n",
        "    cm = confusion_matrix(labels, pred_labels);\n",
        "    cm = ConfusionMatrixDisplay(cm, display_labels = classes);\n",
        "    cm.plot(values_format = 'd', cmap = 'Blues', ax = ax)\n",
        "    fig.delaxes(fig.axes[1]) #delete colorbar\n",
        "    plt.xticks(rotation = 90)\n",
        "    plt.xlabel('Predicted Label', fontsize = 50)\n",
        "    plt.ylabel('True Label', fontsize = 50)"
      ]
    },
    {
      "cell_type": "code",
      "execution_count": null,
      "metadata": {
        "id": "08XMzduObsMa"
      },
      "outputs": [],
      "source": [
        "plot_confusion_matrix(labels, pred_labels, classes)"
      ]
    },
    {
      "cell_type": "markdown",
      "metadata": {
        "id": "GsUXv-ZHBkZ0"
      },
      "source": [
        "We can then get all of the correct predictions, filter them out, and then sort all of the incorrect predictions based on how confident they were on their incorrect prediction."
      ]
    },
    {
      "cell_type": "code",
      "execution_count": null,
      "metadata": {
        "id": "lgSkMA9dbzy8"
      },
      "outputs": [],
      "source": [
        "corrects = torch.eq(labels, pred_labels)"
      ]
    },
    {
      "cell_type": "code",
      "execution_count": null,
      "metadata": {
        "id": "d8DbVGfYb0N_"
      },
      "outputs": [],
      "source": [
        "incorrect_examples = []\n",
        "\n",
        "for image, label, prob, correct in zip(images, labels, probs, corrects):\n",
        "    if not correct:\n",
        "        incorrect_examples.append((image, label, prob))\n",
        "\n",
        "incorrect_examples.sort(reverse = True, key = lambda x: torch.max(x[2], dim = 0).values)"
      ]
    },
    {
      "cell_type": "markdown",
      "metadata": {
        "id": "N-oeP4ycBkZ4"
      },
      "source": [
        "We can then plot the most incorrectly predicted images along with the predicted class and the actual class. "
      ]
    },
    {
      "cell_type": "code",
      "execution_count": null,
      "metadata": {
        "id": "kfbuUGh4b2M4"
      },
      "outputs": [],
      "source": [
        "def plot_most_incorrect(incorrect, classes, n_images, normalize = True):\n",
        "\n",
        "    rows = int(np.sqrt(n_images))\n",
        "    cols = int(np.sqrt(n_images))\n",
        "\n",
        "    fig = plt.figure(figsize = (25, 20))\n",
        "\n",
        "    for i in range(rows*cols):\n",
        "\n",
        "        ax = fig.add_subplot(rows, cols, i+1)\n",
        "        \n",
        "        image, true_label, probs = incorrect[i]\n",
        "        image = image.permute(1, 2, 0)\n",
        "        true_prob = probs[true_label]\n",
        "        incorrect_prob, incorrect_label = torch.max(probs, dim = 0)\n",
        "        true_class = classes[true_label]\n",
        "        incorrect_class = classes[incorrect_label]\n",
        "\n",
        "        if normalize:\n",
        "            image = normalize_image(image)\n",
        "\n",
        "        ax.imshow(image.cpu().numpy())\n",
        "        ax.set_title(f'true label: {true_class} ({true_prob:.3f})\\n' \\\n",
        "                     f'pred label: {incorrect_class} ({incorrect_prob:.3f})')\n",
        "        ax.axis('off')\n",
        "        \n",
        "    fig.subplots_adjust(hspace=0.4)"
      ]
    },
    {
      "cell_type": "markdown",
      "metadata": {
        "id": "nkj1fB0TBkZ7"
      },
      "source": [
        "From the names of the classes (and a bit of image searching) we can see that the incorrect predictions are usually sensible, e.g. magnolia warbler and cape may warbler, marsh wren and carolina wren.\n",
        "\n",
        "The most incorrectly predicted image might also be a mislabeled example as worm eating warblers do not have a black and white underside."
      ]
    },
    {
      "cell_type": "code",
      "execution_count": null,
      "metadata": {
        "id": "VL56wXWtb4BT"
      },
      "outputs": [],
      "source": [
        "N_IMAGES = 36\n",
        "\n",
        "plot_most_incorrect(incorrect_examples, classes, N_IMAGES)"
      ]
    },
    {
      "cell_type": "markdown",
      "metadata": {
        "id": "Hozwk47TBkZ9"
      },
      "source": [
        "We can also get the representations from the model in order to perform some dimensionality reduction techniques.\n",
        "\n",
        "In this notebook we'll only get the output representations, and not the intermediate ones."
      ]
    },
    {
      "cell_type": "code",
      "execution_count": null,
      "metadata": {
        "id": "r5UzPHw29QVi"
      },
      "outputs": [],
      "source": [
        "def get_representations(model, iterator):\n",
        "\n",
        "    model.eval()\n",
        "\n",
        "    outputs = []\n",
        "    intermediates = []\n",
        "    labels = []\n",
        "\n",
        "    with torch.no_grad():\n",
        "        \n",
        "        for (x, y) in iterator:\n",
        "\n",
        "            x = x.to(device)\n",
        "\n",
        "            y_pred, _ = model(x)\n",
        "\n",
        "            outputs.append(y_pred.cpu())\n",
        "            labels.append(y)\n",
        "        \n",
        "    outputs = torch.cat(outputs, dim = 0)\n",
        "    labels = torch.cat(labels, dim = 0)\n",
        "\n",
        "    return outputs, labels"
      ]
    },
    {
      "cell_type": "code",
      "execution_count": null,
      "metadata": {
        "id": "tYvJXnuu9by8"
      },
      "outputs": [],
      "source": [
        "outputs, labels = get_representations(model, train_iterator)"
      ]
    },
    {
      "cell_type": "markdown",
      "metadata": {
        "id": "h1R4lhBuBkaA"
      },
      "source": [
        "We can then perform PCA on these representations to plot them in two dimensions."
      ]
    },
    {
      "cell_type": "code",
      "execution_count": null,
      "metadata": {
        "id": "6C0vTaVm9dha"
      },
      "outputs": [],
      "source": [
        "def get_pca(data, n_components = 2):\n",
        "    pca = decomposition.PCA()\n",
        "    pca.n_components = n_components\n",
        "    pca_data = pca.fit_transform(data)\n",
        "    return pca_data"
      ]
    },
    {
      "cell_type": "markdown",
      "metadata": {
        "id": "ggFP2ccmBkaB"
      },
      "source": [
        "As there are 200 classes, it is difficult for every class to have a unique color. \n",
        "\n",
        "Also a legend with 200 elements is quite large, so we do not plot it - however we leave the code (commented out) to do so if required."
      ]
    },
    {
      "cell_type": "code",
      "execution_count": null,
      "metadata": {
        "id": "pHQfixt09fMO"
      },
      "outputs": [],
      "source": [
        "def plot_representations(data, labels, classes, n_images = None):\n",
        "            \n",
        "    if n_images is not None:\n",
        "        data = data[:n_images]\n",
        "        labels = labels[:n_images]\n",
        "                \n",
        "    fig = plt.figure(figsize = (15, 15))\n",
        "    ax = fig.add_subplot(111)\n",
        "    scatter = ax.scatter(data[:, 0], data[:, 1], c = labels, cmap = 'hsv')\n",
        "    #handles, _ = scatter.legend_elements(num = None)\n",
        "    #legend = plt.legend(handles = handles, labels = classes)"
      ]
    },
    {
      "cell_type": "markdown",
      "metadata": {
        "id": "fayYO5S9BkaE"
      },
      "source": [
        "The classes do not seem as well separated as in previous notebooks, although this is most probably due to there being so many classes."
      ]
    },
    {
      "cell_type": "code",
      "execution_count": null,
      "metadata": {
        "id": "TpZQLiLZ9hdh"
      },
      "outputs": [],
      "source": [
        "output_pca_data = get_pca(outputs)\n",
        "plot_representations(output_pca_data, labels, classes)"
      ]
    },
    {
      "cell_type": "markdown",
      "metadata": {
        "id": "49pfWd9XBkaG"
      },
      "source": [
        "Next up, we plot the t-SNE data. As we have a much smaller dataset than the CIFAR datasets used previously we can perform t-SNE on the entire dataset in a reasonable amount of time."
      ]
    },
    {
      "cell_type": "code",
      "execution_count": null,
      "metadata": {
        "id": "pz6yxrS29i9D"
      },
      "outputs": [],
      "source": [
        "def get_tsne(data, n_components = 2, n_images = None):\n",
        "    \n",
        "    if n_images is not None:\n",
        "        data = data[:n_images]\n",
        "        \n",
        "    tsne = manifold.TSNE(n_components = n_components, random_state = 0)\n",
        "    tsne_data = tsne.fit_transform(data)\n",
        "    return tsne_data"
      ]
    },
    {
      "cell_type": "markdown",
      "metadata": {
        "id": "P7HWLoL0BkaH"
      },
      "source": [
        "The classes are definitely well separated here - which is usually a good sign."
      ]
    },
    {
      "cell_type": "code",
      "execution_count": null,
      "metadata": {
        "id": "fe8v2Z2v9koj"
      },
      "outputs": [],
      "source": [
        "output_tsne_data = get_tsne(outputs)\n",
        "plot_representations(output_tsne_data, labels, classes)"
      ]
    },
    {
      "cell_type": "markdown",
      "metadata": {
        "id": "cGNLTwM-fnQF"
      },
      "source": [
        "We can then plot what a few of the images look like after having gone through the first convolutional layer."
      ]
    },
    {
      "cell_type": "code",
      "execution_count": null,
      "metadata": {
        "id": "VDqM5kXc9mU7"
      },
      "outputs": [],
      "source": [
        "def plot_filtered_images(images, filters, n_filters = None, normalize = True):\n",
        "\n",
        "    images = torch.cat([i.unsqueeze(0) for i in images], dim = 0).cpu()\n",
        "    filters = filters.cpu()\n",
        "\n",
        "    if n_filters is not None:\n",
        "        filters = filters[:n_filters]\n",
        "\n",
        "    n_images = images.shape[0]\n",
        "    n_filters = filters.shape[0]\n",
        "\n",
        "    filtered_images = F.conv2d(images, filters)\n",
        "\n",
        "    fig = plt.figure(figsize = (30, 30))\n",
        "\n",
        "    for i in range(n_images):\n",
        "\n",
        "        image = images[i]\n",
        "\n",
        "        if normalize:\n",
        "            image = normalize_image(image)\n",
        "\n",
        "        ax = fig.add_subplot(n_images, n_filters+1, i+1+(i*n_filters))\n",
        "        ax.imshow(image.permute(1,2,0).numpy())\n",
        "        ax.set_title('Original')\n",
        "        ax.axis('off')\n",
        "\n",
        "        for j in range(n_filters):\n",
        "            image = filtered_images[i][j]\n",
        "\n",
        "            if normalize:\n",
        "                image = normalize_image(image)\n",
        "\n",
        "            ax = fig.add_subplot(n_images, n_filters+1, i+1+(i*n_filters)+j+1)\n",
        "            ax.imshow(image.numpy(), cmap = 'bone')\n",
        "            ax.set_title(f'Filter {j+1}')\n",
        "            ax.axis('off');\n",
        "\n",
        "    fig.subplots_adjust(hspace = -0.7)"
      ]
    },
    {
      "cell_type": "markdown",
      "metadata": {
        "id": "B3cF1gU3BkaN"
      },
      "source": [
        "We can see that the filters perform many different types of image processing - from edge detection to color inversion."
      ]
    },
    {
      "cell_type": "code",
      "execution_count": null,
      "metadata": {
        "id": "Gknz19kp9onk"
      },
      "outputs": [],
      "source": [
        "N_IMAGES = 5\n",
        "N_FILTERS = 7\n",
        "\n",
        "images = [image for image, label in [train_data[i] for i in range(N_IMAGES)]]\n",
        "filters = model.conv1.weight.data\n",
        "\n",
        "plot_filtered_images(images, filters, N_FILTERS)"
      ]
    },
    {
      "cell_type": "markdown",
      "metadata": {
        "id": "3PcFkdOFBkaP"
      },
      "source": [
        "Finally, we can plot the values of the filters themselves."
      ]
    },
    {
      "cell_type": "code",
      "execution_count": null,
      "metadata": {
        "id": "ZOGoonSkxVNk"
      },
      "outputs": [],
      "source": [
        "def plot_filters(filters, normalize = True):\n",
        "\n",
        "    filters = filters.cpu()\n",
        "\n",
        "    n_filters = filters.shape[0]\n",
        "\n",
        "    rows = int(np.sqrt(n_filters))\n",
        "    cols = int(np.sqrt(n_filters))\n",
        "\n",
        "    fig = plt.figure(figsize = (30, 15))\n",
        "\n",
        "    for i in range(rows*cols):\n",
        "\n",
        "        image = filters[i]\n",
        "\n",
        "        if normalize:\n",
        "            image = normalize_image(image)\n",
        "\n",
        "        ax = fig.add_subplot(rows, cols, i+1)\n",
        "        ax.imshow(image.permute(1, 2, 0))\n",
        "        ax.axis('off')\n",
        "        \n",
        "    fig.subplots_adjust(wspace = -0.9)"
      ]
    },
    {
      "cell_type": "markdown",
      "metadata": {
        "id": "gAcFeTR3BkaQ"
      },
      "source": [
        "There are some interesting patterns contained in these filters, however all of these were already present in the pre-trained ResNet model. The learning rate used on this initial convolutional layer was most probably too small to change these significantly."
      ]
    },
    {
      "cell_type": "code",
      "execution_count": null,
      "metadata": {
        "id": "vqru5kYNxVNm"
      },
      "outputs": [],
      "source": [
        "plot_filters(filters)"
      ]
    },
    {
      "cell_type": "markdown",
      "metadata": {
        "id": "lKKLTcF3BkaS"
      },
      "source": [
        "### Conclusions\n",
        "\n",
        "In this notebook we have shown: \n",
        "- downloading and extracting custom datasets\n",
        "- loading custom datasets\n",
        "- calculating the mean and std for normalization on custom datasets\n",
        "- loading transforms to augment and normalize our data\n",
        "- defining a ResNet model\n",
        "- defining the ResNet blocks\n",
        "- defining a CIFAR ResNet model\n",
        "- loading a pre-trained model\n",
        "- loading pre-trained model parameters into a defined model\n",
        "- how to use the learning rate finder\n",
        "- how to use discriminative fine-tuning\n",
        "- how to use the one cycle learning rate scheduler\n",
        "- fine-tuning a pre-trained model to achieve ~80% top-1 accuracy and ~95% top-5 accuracy on a dataset with 200 classes and only 60 examples per class\n",
        "- viewing our model's mistakes\n",
        "- visualizing our data in lower dimensions with PCA and t-SNE\n",
        "- viewing the learned weights of our model"
      ]
    }
  ],
  "metadata": {
    "accelerator": "GPU",
    "colab": {
      "collapsed_sections": [],
      "machine_shape": "hm",
      "name": "5 - ResNet.ipynb",
      "provenance": [],
      "toc_visible": true
    },
    "kernelspec": {
      "display_name": "Python 3",
      "language": "python",
      "name": "python3"
    },
    "language_info": {
      "codemirror_mode": {
        "name": "ipython",
        "version": 3
      },
      "file_extension": ".py",
      "mimetype": "text/x-python",
      "name": "python",
      "nbconvert_exporter": "python",
      "pygments_lexer": "ipython3",
      "version": "3.8.5"
    }
  },
  "nbformat": 4,
  "nbformat_minor": 0
}